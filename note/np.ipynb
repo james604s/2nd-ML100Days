{
 "cells": [
  {
   "cell_type": "markdown",
   "metadata": {},
   "source": [
    "資料參考來源：\n",
    "https://morvanzhou.github.io/tutorials/data-manipulation/np-pd/2-4-np-math2/"
   ]
  },
  {
   "cell_type": "markdown",
   "metadata": {},
   "source": [
    "### 基本示範"
   ]
  },
  {
   "cell_type": "code",
   "execution_count": 1,
   "metadata": {},
   "outputs": [],
   "source": [
    "import numpy as np"
   ]
  },
  {
   "cell_type": "code",
   "execution_count": 4,
   "metadata": {},
   "outputs": [
    {
     "data": {
      "text/plain": [
       "array([[1, 2, 3],\n",
       "       [2, 3, 4]])"
      ]
     },
     "execution_count": 4,
     "metadata": {},
     "output_type": "execute_result"
    }
   ],
   "source": [
    "array = np.array([[1,2,3],\n",
    "                 [2,3,4]])\n",
    "array"
   ]
  },
  {
   "cell_type": "code",
   "execution_count": 9,
   "metadata": {},
   "outputs": [
    {
     "name": "stdout",
     "output_type": "stream",
     "text": [
      "number of dim： 2\n",
      "shape： (2, 3)\n",
      "size： 6\n"
     ]
    }
   ],
   "source": [
    "print('number of dim：', array.ndim ) #幾維\n",
    "print('shape：', array.shape) #幾行幾列\n",
    "print('size：', array.size) #多少資料"
   ]
  },
  {
   "cell_type": "markdown",
   "metadata": {},
   "source": [
    "### array創建"
   ]
  },
  {
   "cell_type": "code",
   "execution_count": 14,
   "metadata": {},
   "outputs": [
    {
     "name": "stdout",
     "output_type": "stream",
     "text": [
      "[ 2 34  5]\n",
      "int64\n"
     ]
    }
   ],
   "source": [
    "a = np.array([2,34,5], dtype = np.int) #要用列表創建, dtype指定資料型態, 一維\n",
    "print(a)\n",
    "print(a.dtype)"
   ]
  },
  {
   "cell_type": "code",
   "execution_count": 15,
   "metadata": {},
   "outputs": [
    {
     "name": "stdout",
     "output_type": "stream",
     "text": [
      "[[ 9  1 22]\n",
      " [32 11  5]]\n"
     ]
    }
   ],
   "source": [
    "b = np.array([[9,1,22],\n",
    "              [32,11,5]]) #二維 三行兩列\n",
    "print(b)"
   ]
  },
  {
   "cell_type": "code",
   "execution_count": 36,
   "metadata": {},
   "outputs": [
    {
     "name": "stdout",
     "output_type": "stream",
     "text": [
      "[[0. 0. 0. 0.]\n",
      " [0. 0. 0. 0.]\n",
      " [0. 0. 0. 0.]]\n",
      "________________________________\n",
      "[[1 1 1 1]\n",
      " [1 1 1 1]]\n",
      "________________________________\n",
      "[[1.08221785e-312 1.03977794e-312]\n",
      " [1.23075756e-312 1.06099790e-312]\n",
      " [1.12465777e-312 9.76118064e-313]]\n",
      "________________________________\n",
      "[14 16 18 20 22 24 26 28]\n",
      "________________________________\n",
      "[[ 0  1  2  3]\n",
      " [ 4  5  6  7]\n",
      " [ 8  9 10 11]]\n",
      "________________________________\n",
      "[[ 1.  4.]\n",
      " [ 7. 10.]]\n",
      "________________________________\n"
     ]
    }
   ],
   "source": [
    "c = np.zeros((3,4)) #創建4行3列的零矩陣\n",
    "print(c)\n",
    "print('________________________________')\n",
    "d = np.ones((2,4), dtype = int) #1的矩陣\n",
    "print(d)\n",
    "print('________________________________')\n",
    "\n",
    "e = np.empty((3,2)) #接近0的矩陣\n",
    "print(e)\n",
    "print('________________________________')\n",
    "\n",
    "f = np.arange(14, 30, 2)  #類似range\n",
    "print(f)\n",
    "print('________________________________')\n",
    "\n",
    "g = np.arange(12).reshape(3,4)  #重定義矩陣成4行3列\n",
    "print(g)\n",
    "print('________________________________')\n",
    "\n",
    "h = np.linspace(1, 10, 4).reshape(2, 2) #在1~10中間有4段, 並為2行2列的矩陣。\n",
    "print(h)\n",
    "print('________________________________')\n"
   ]
  },
  {
   "cell_type": "markdown",
   "metadata": {},
   "source": [
    "### numpy基本運算"
   ]
  },
  {
   "cell_type": "code",
   "execution_count": 44,
   "metadata": {},
   "outputs": [
    {
     "name": "stdout",
     "output_type": "stream",
     "text": [
      "[10 20 30  4] [0 1 2 3]\n",
      "________________________________\n",
      "[10 21 32  7]\n",
      "________________________________\n",
      "[0 1 4 9]\n",
      "________________________________\n",
      "[-5.44021111  9.12945251 -9.88031624 -7.56802495]\n",
      "________________________________\n",
      "[0 1 2 3]\n",
      "[ True  True  True False]\n"
     ]
    }
   ],
   "source": [
    "a = np.array([10,20,30,4])\n",
    "b = np.arange(4)\n",
    "print(a, b)\n",
    "print('________________________________')\n",
    "\n",
    "c = a + b\n",
    "print(c)\n",
    "print('________________________________')\n",
    "\n",
    "c = b**2\n",
    "print(c)\n",
    "print('________________________________')\n",
    "\n",
    "c = 10*np.sin(a) #np.cos, np.tan\n",
    "print(c)\n",
    "print('________________________________')\n",
    "\n",
    "print(b)\n",
    "print(b<3) #b == 3, b>=3 ...等"
   ]
  },
  {
   "cell_type": "code",
   "execution_count": 61,
   "metadata": {},
   "outputs": [
    {
     "name": "stdout",
     "output_type": "stream",
     "text": [
      "array A:\n",
      "[[1 1]\n",
      " [8 3]]\n",
      "array B:\n",
      "[[0 1]\n",
      " [2 3]]\n",
      "[[ 0  1]\n",
      " [16  9]]\n",
      "[[ 2  4]\n",
      " [ 6 17]]\n",
      "[[ 2  4]\n",
      " [ 6 17]]\n",
      "________________________________\n",
      "[[0.67655755 0.74730811 0.57076669 0.18959386]\n",
      " [0.16394513 0.38352128 0.0100781  0.44167113]]\n",
      "3.183441841625144\n",
      "[2.18422621 0.99921564]\n",
      "________________________________\n",
      "0.7473081067964954\n",
      "[0.74730811 0.44167113]\n",
      "________________________________\n",
      "0.010078104920843822\n",
      "[0.16394513 0.38352128 0.0100781  0.18959386]\n"
     ]
    }
   ],
   "source": [
    "#二維矩陣基本運算\n",
    "a = np.array([[1,1],\n",
    "              [8,3]])\n",
    "\n",
    "b = np.arange(4).reshape(2,2)\n",
    "\n",
    "print('array A:')\n",
    "print(a)\n",
    "print('array B:')\n",
    "print(b)\n",
    "\n",
    "c = a*b    #逐個相乘\n",
    "c_dot = np.dot(a, b) #矩陣運算\n",
    "c_dot2 = a.dot(b) #矩陣運算\n",
    "\n",
    "print(c)\n",
    "print(c_dot)\n",
    "print(c_dot2)\n",
    "print('________________________________')\n",
    "\n",
    "a = np.random.random((2,4)) #0~1隨機生成 4行2列矩陣\n",
    "print(a)\n",
    "print(np.sum(a))\n",
    "print(np.sum(a, axis = 1))\n",
    "print('________________________________')\n",
    "\n",
    "print(np.max(a))\n",
    "print(np.max(a, axis = 1))\n",
    "print('________________________________')\n",
    "\n",
    "print(np.min(a))\n",
    "print(np.min(a, axis = 0))"
   ]
  },
  {
   "cell_type": "markdown",
   "metadata": {},
   "source": [
    "### numpy 基礎運算2"
   ]
  },
  {
   "cell_type": "code",
   "execution_count": 78,
   "metadata": {},
   "outputs": [
    {
     "name": "stdout",
     "output_type": "stream",
     "text": [
      "[[14 13 12 11]\n",
      " [10  9  8  7]\n",
      " [ 6  5  4  3]]\n",
      "________________________________\n",
      "11\n",
      "________________________________\n",
      "0\n",
      "________________________________\n",
      "8.5\n",
      "________________________________\n",
      "8.5\n",
      "________________________________\n",
      "[ 14  27  39  50  60  69  77  84  90  95  99 102]\n",
      "________________________________\n",
      "[[-1 -1 -1]\n",
      " [-1 -1 -1]\n",
      " [-1 -1 -1]]\n",
      "________________________________\n",
      "(array([0, 0, 0, 0, 1, 1, 1, 1, 2, 2, 2, 2]), array([0, 1, 2, 3, 0, 1, 2, 3, 0, 1, 2, 3]))\n",
      "________________________________\n",
      "[[11 12 13 14]\n",
      " [ 7  8  9 10]\n",
      " [ 3  4  5  6]]\n",
      "________________________________\n",
      "[[14 10  6]\n",
      " [13  9  5]\n",
      " [12  8  4]\n",
      " [11  7  3]]\n",
      "[[14 10  6]\n",
      " [13  9  5]\n",
      " [12  8  4]\n",
      " [11  7  3]]\n",
      "[[332 302 272 242]\n",
      " [302 275 248 221]\n",
      " [272 248 224 200]\n",
      " [242 221 200 179]]\n",
      "________________________________\n",
      "[[9 9 9 9]\n",
      " [9 9 8 7]\n",
      " [6 5 5 5]]\n",
      "________________________________\n",
      "[10.  9.  8.  7.]\n"
     ]
    }
   ],
   "source": [
    "a = np.arange(14, 2, -1).reshape((3,4)) \n",
    "print(a)\n",
    "print('________________________________')\n",
    "# array([[ 2, 3, 4, 5]\n",
    "#        [ 6, 7, 8, 9]\n",
    "#        [10,11,12,13]])\n",
    "         \n",
    "print(np.argmin(a))    # 最小值的index：0\n",
    "print('________________________________')\n",
    "print(np.argmax(a))    # 最大值的index：11\n",
    "print('________________________________')\n",
    "print(np.mean(a))\n",
    "print('________________________________')\n",
    "print(np.median(a))\n",
    "print('________________________________')\n",
    "print(np.cumsum(a))    #累加\n",
    "print('________________________________')\n",
    "print(np.diff(a))      #累差\n",
    "print('________________________________')\n",
    "print(np.nonzero(a))   #第幾行第幾列是非0的數\n",
    "print('________________________________')\n",
    "print(np.sort(a))   #逐列排序\n",
    "print('________________________________')\n",
    "print(np.transpose(a)) #行列轉換\n",
    "print(a.T)\n",
    "print((a.T).dot(a))\n",
    "print('________________________________')\n",
    "print(np.clip(a, 5, 9)) #小於5的數就等於5, 大於9的數就等於9, 5~9中間保持原形\n",
    "print('________________________________')\n",
    "print(np.mean(a, axis = 0))"
   ]
  },
  {
   "cell_type": "markdown",
   "metadata": {},
   "source": [
    "### numpy索引(根據位置找到值及運算)"
   ]
  },
  {
   "cell_type": "code",
   "execution_count": 96,
   "metadata": {},
   "outputs": [
    {
     "name": "stdout",
     "output_type": "stream",
     "text": [
      "[[ 3  4  5  6]\n",
      " [ 7  8  9 10]\n",
      " [11 12 13 14]]\n",
      "[11 12 13 14]\n",
      "第二列第一行： 7\n",
      "第二列第一行： 7\n",
      "第三列的所有數： [11 12 13 14]\n",
      "第二列的第二跟第三個行的值： [8 9]\n"
     ]
    }
   ],
   "source": [
    "import numpy as np\n",
    "a = np.arange(3, 15).reshape((3,4))\n",
    "print(a)\n",
    "print(a[2])\n",
    "print('第二列第一行：', a[1][0]) \n",
    "print('第二列第一行：', a[1, 0])\n",
    "print('第三列的所有數：',a[2, :])\n",
    "print('第二列的第二跟第三個行的值：', a[1,1:3]) "
   ]
  },
  {
   "cell_type": "code",
   "execution_count": 104,
   "metadata": {},
   "outputs": [
    {
     "name": "stdout",
     "output_type": "stream",
     "text": [
      "[3 4 5 6]\n",
      "[ 7  8  9 10]\n",
      "[11 12 13 14]\n",
      "-------------------------\n",
      "[ 3  7 11]\n",
      "[ 4  8 12]\n",
      "[ 5  9 13]\n",
      "[ 6 10 14]\n"
     ]
    }
   ],
   "source": [
    "#列迭代\n",
    "for row in a:\n",
    "    print(row)\n",
    "  \n",
    "print('-------------------------')\n",
    "#行迭代，將矩陣轉置\n",
    "for column in a.T:\n",
    "    print(column)"
   ]
  },
  {
   "cell_type": "code",
   "execution_count": 108,
   "metadata": {},
   "outputs": [
    {
     "name": "stdout",
     "output_type": "stream",
     "text": [
      "[ 2  3  4  5  6  7  8  9 10 11 12 13]\n",
      "3\n",
      "4\n",
      "5\n",
      "6\n",
      "7\n",
      "8\n",
      "9\n",
      "10\n",
      "11\n",
      "12\n",
      "13\n",
      "14\n"
     ]
    }
   ],
   "source": [
    "#迭代每個元素\n",
    "#flat轉變為一列\n",
    "print(A.flatten())\n",
    "\n",
    "for item in a.flat:\n",
    "    print(item)"
   ]
  },
  {
   "cell_type": "markdown",
   "metadata": {},
   "source": [
    "### numpy array合併"
   ]
  },
  {
   "cell_type": "code",
   "execution_count": 132,
   "metadata": {},
   "outputs": [
    {
     "name": "stdout",
     "output_type": "stream",
     "text": [
      "vertical stack:\n",
      "[[1 1 1]\n",
      " [2 2 2]]\n",
      "horizontal stack:\n",
      "[1 1 1 2 2 2]\n",
      "-------------------------\n",
      "a: (3,) b: (3,) c: (2, 3) d: (6,)\n",
      "-------------------------\n",
      "(1, 3)\n",
      "(3, 1)\n",
      "-------------------------\n",
      "[[1]\n",
      " [1]\n",
      " [1]]\n",
      "-------------------------\n",
      "[[2]\n",
      " [2]\n",
      " [2]]\n",
      "-------------------------\n",
      "[[1 2 2 1]\n",
      " [1 2 2 1]\n",
      " [1 2 2 1]]\n"
     ]
    }
   ],
   "source": [
    "import numpy as np\n",
    "a = np.array([1,1,1])\n",
    "b = np.array([2,2,2])\n",
    "c = np.vstack((a,b))\n",
    "d = np.hstack((a,b))\n",
    "print('vertical stack:')\n",
    "print(c)  #上下合併\n",
    "print('horizontal stack:')\n",
    "print(d)  #左右合併\n",
    "print('-------------------------')\n",
    "print('a:', a.shape, 'b:', b.shape, 'c:', c.shape, 'd:', d.shape)   #查行列\n",
    "print('-------------------------')\n",
    "print(a[np.newaxis, :].shape) #維度增加\n",
    "print(a[:, np.newaxis].shape) #維度增加\n",
    "print('-------------------------')\n",
    "a2 = np.array([1,1,1])[:, np.newaxis]\n",
    "b2 = np.array([2,2,2])[:, np.newaxis]\n",
    "c2 = np.concatenate((a2 ,b2 ,b2 ,a2), axis = 1) #多個array縱向或橫向的合併 axis=0 上下合併 , axis = 1 左右合併\n",
    "print(a2)\n",
    "print('-------------------------')\n",
    "print(b2)\n",
    "print('-------------------------')\n",
    "print(c2)"
   ]
  },
  {
   "cell_type": "markdown",
   "metadata": {},
   "source": [
    "### numpy array 分割"
   ]
  },
  {
   "cell_type": "code",
   "execution_count": 138,
   "metadata": {},
   "outputs": [
    {
     "name": "stdout",
     "output_type": "stream",
     "text": [
      "[[ 0  1  2  3]\n",
      " [ 4  5  6  7]\n",
      " [ 8  9 10 11]]\n",
      "[array([[0, 1],\n",
      "       [4, 5],\n",
      "       [8, 9]]), array([[ 2,  3],\n",
      "       [ 6,  7],\n",
      "       [10, 11]])]\n",
      "[array([[0, 1, 2, 3]]), array([[4, 5, 6, 7]]), array([[ 8,  9, 10, 11]])]\n"
     ]
    }
   ],
   "source": [
    "a = np.arange(12).reshape((3,4))\n",
    "print(a)\n",
    "\n",
    "print(np.split(a, 2, axis = 1))#縱向分割,分成兩塊\n",
    "print(np.split(a, 3, axis = 0))#橫向分割,分成三塊"
   ]
  },
  {
   "cell_type": "code",
   "execution_count": 139,
   "metadata": {},
   "outputs": [
    {
     "name": "stdout",
     "output_type": "stream",
     "text": [
      "[array([[0, 1],\n",
      "       [4, 5],\n",
      "       [8, 9]]), array([[ 2],\n",
      "       [ 6],\n",
      "       [10]]), array([[ 3],\n",
      "       [ 7],\n",
      "       [11]])]\n"
     ]
    }
   ],
   "source": [
    "#不等量的分割\n",
    "print(np.array_split(a, 3, axis = 1))"
   ]
  },
  {
   "cell_type": "code",
   "execution_count": 141,
   "metadata": {},
   "outputs": [
    {
     "name": "stdout",
     "output_type": "stream",
     "text": [
      "[array([[0, 1, 2, 3]]), array([[4, 5, 6, 7]]), array([[ 8,  9, 10, 11]])]\n",
      "[array([[0, 1],\n",
      "       [4, 5],\n",
      "       [8, 9]]), array([[ 2,  3],\n",
      "       [ 6,  7],\n",
      "       [10, 11]])]\n"
     ]
    }
   ],
   "source": [
    "#橫向分割\n",
    "print(np.vsplit(a, 3))\n",
    "\n",
    "#縱向分割\n",
    "print(np.hsplit(a, 2))"
   ]
  },
  {
   "cell_type": "markdown",
   "metadata": {},
   "source": [
    "### numpy array 賦值"
   ]
  },
  {
   "cell_type": "code",
   "execution_count": 150,
   "metadata": {},
   "outputs": [
    {
     "name": "stdout",
     "output_type": "stream",
     "text": [
      "[0 1 2 3]\n",
      "[13  1  2  3]\n"
     ]
    }
   ],
   "source": [
    "a = np.arange(4)\n",
    "print(a)\n",
    "\n",
    "b = a\n",
    "c = a\n",
    "d = b\n",
    "a[0] = 13\n",
    "print(a)\n"
   ]
  },
  {
   "cell_type": "markdown",
   "metadata": {},
   "source": [
    "a改變則其他都改變"
   ]
  },
  {
   "cell_type": "code",
   "execution_count": 156,
   "metadata": {},
   "outputs": [
    {
     "data": {
      "text/plain": [
       "True"
      ]
     },
     "execution_count": 156,
     "metadata": {},
     "output_type": "execute_result"
    }
   ],
   "source": [
    "b is a"
   ]
  },
  {
   "cell_type": "code",
   "execution_count": 154,
   "metadata": {},
   "outputs": [
    {
     "data": {
      "text/plain": [
       "True"
      ]
     },
     "execution_count": 154,
     "metadata": {},
     "output_type": "execute_result"
    }
   ],
   "source": [
    "c is a\n"
   ]
  },
  {
   "cell_type": "code",
   "execution_count": 155,
   "metadata": {},
   "outputs": [
    {
     "data": {
      "text/plain": [
       "True"
      ]
     },
     "execution_count": 155,
     "metadata": {},
     "output_type": "execute_result"
    }
   ],
   "source": [
    "d is b"
   ]
  },
  {
   "cell_type": "code",
   "execution_count": 157,
   "metadata": {},
   "outputs": [
    {
     "data": {
      "text/plain": [
       "array([13, 22, 33,  3])"
      ]
     },
     "execution_count": 157,
     "metadata": {},
     "output_type": "execute_result"
    }
   ],
   "source": [
    "d[1:3] = [22, 33]\n",
    "d"
   ]
  },
  {
   "cell_type": "code",
   "execution_count": 158,
   "metadata": {},
   "outputs": [
    {
     "data": {
      "text/plain": [
       "array([13, 22, 33,  3])"
      ]
     },
     "execution_count": 158,
     "metadata": {},
     "output_type": "execute_result"
    }
   ],
   "source": [
    "a"
   ]
  },
  {
   "cell_type": "code",
   "execution_count": 159,
   "metadata": {},
   "outputs": [
    {
     "data": {
      "text/plain": [
       "array([13, 22, 33,  3])"
      ]
     },
     "execution_count": 159,
     "metadata": {},
     "output_type": "execute_result"
    }
   ],
   "source": [
    "b = a.copy() #deep copy 不想要跟其他有關聯\n",
    "b"
   ]
  }
 ],
 "metadata": {
  "kernelspec": {
   "display_name": "Python 3",
   "language": "python",
   "name": "python3"
  },
  "language_info": {
   "codemirror_mode": {
    "name": "ipython",
    "version": 3
   },
   "file_extension": ".py",
   "mimetype": "text/x-python",
   "name": "python",
   "nbconvert_exporter": "python",
   "pygments_lexer": "ipython3",
   "version": "3.6.8"
  }
 },
 "nbformat": 4,
 "nbformat_minor": 2
}
