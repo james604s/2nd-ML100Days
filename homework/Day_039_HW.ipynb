{
 "cells": [
  {
   "cell_type": "markdown",
   "metadata": {},
   "source": [
    "## [作業重點]\n",
    "清楚了解 L1, L2 的意義與差異為何，並了解 LASSO 與 Ridge 之間的差異與使用情境"
   ]
  },
  {
   "cell_type": "markdown",
   "metadata": {},
   "source": [
    "## 作業"
   ]
  },
  {
   "cell_type": "markdown",
   "metadata": {},
   "source": [
    "請閱讀相關文獻，並回答下列問題\n",
    "\n",
    "[脊回歸 (Ridge Regression)](https://blog.csdn.net/daunxx/article/details/51578787)\n",
    "[Linear, Ridge, Lasso Regression 本質區別](https://www.zhihu.com/question/38121173)\n",
    "\n",
    "1. LASSO 回歸可以被用來作為 Feature selection 的工具，請了解 LASSO 模型為什麼可用來作 Feature selection\n",
    "2. 當自變數 (X) 存在高度共線性時，Ridge Regression 可以處理這樣的問題嗎?\n"
   ]
  },
  {
   "cell_type": "markdown",
   "metadata": {},
   "source": [
    "* 什麼是迴歸係數？\n",
    "* 回歸係數（regression coefficient）在回歸方程中表示自變量x 對因變量y 影響大小的參數。\n",
    "* 回歸係數越大表示x 對y 影響越大，正回歸係數表示y 隨x 增大而增大，負回歸係數表示y 隨x增大而減小。\n",
    "* 例如回歸方程式Y=bX+a中，斜率b稱為回歸係數，表示X每變動一單位，平均而言，Y將變動b單位。"
   ]
  },
  {
   "cell_type": "markdown",
   "metadata": {},
   "source": [
    "#### LASSO 回歸可以被用來作為 Feature selection 的工具，請了解 LASSO 模型為什麼可用來作 Feature selection\n",
    "\n",
    "* LASSO是L1正則，Ridge是L2正則。\n",
    "* 而L1正則與L2正則的不同就在於L1在和每個坐標軸相交的地方都有“角”出現，而目標函數的等值線除非位置擺得非常好，大部分時候都會在角的地方相交。注意到在角的位置就會產生稀疏性。\n",
    "* 相比之下，L2正則就沒有這樣的性質，因為沒有角，所以第一次相交的地方出現在具有稀疏性的位置的概率就變得非常小了。這就從直觀上來解釋了為什麼L1正則，而L2正則不行的原因了。\n",
    "* 因此，一句話總結就是：L1會趨向於產生少量的特徵，而其他的特徵都是0，而L2會選擇更多的特徵，這些特徵都會接近於0。 Lasso在特徵選擇時候非常有用，而Ridge就只是一種規則化而已。"
   ]
  },
  {
   "cell_type": "markdown",
   "metadata": {},
   "source": [
    "#### 當自變數 (X) 存在高度共線性時，Ridge Regression 可以處理這樣的問題嗎?\n",
    "* 當自變數 (X) 存在高度共線性時, 回答這個問題前需要了解什麼是共線性(colinerarity), 當許多自變數X(i)間彼此出現高度相關, 可以用正則化來選擇要留下哪一個feature, 以降低模型變異和誤差。"
   ]
  },
  {
   "cell_type": "markdown",
   "metadata": {},
   "source": [
    "#### 參考資料\n",
    "* 回歸係數http://mgtr.cm.nsysu.edu.tw/Upload/Journal/33/23084/633440413317187500.pdf\n",
    "* https://baike.baidu.com/item/%E5%9B%9E%E5%BD%92%E7%B3%BB%E6%95%B0\n",
    "* LASSO & Ridge http://sofasofa.io/forum_main_post.php?postid=1001156"
   ]
  },
  {
   "cell_type": "code",
   "execution_count": null,
   "metadata": {},
   "outputs": [],
   "source": []
  }
 ],
 "metadata": {
  "kernelspec": {
   "display_name": "Python 3",
   "language": "python",
   "name": "python3"
  },
  "language_info": {
   "codemirror_mode": {
    "name": "ipython",
    "version": 3
   },
   "file_extension": ".py",
   "mimetype": "text/x-python",
   "name": "python",
   "nbconvert_exporter": "python",
   "pygments_lexer": "ipython3",
   "version": "3.6.8"
  }
 },
 "nbformat": 4,
 "nbformat_minor": 2
}
