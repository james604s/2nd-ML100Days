{
 "cells": [
  {
   "cell_type": "markdown",
   "metadata": {},
   "source": [
    "## 練習時間"
   ]
  },
  {
   "cell_type": "markdown",
   "metadata": {},
   "source": [
    "請觀看台大電機李宏毅教授的影片。李教授會用非常淺顯易懂的方式介紹甚麼是機器學習。\n"
   ]
  },
  {
   "cell_type": "markdown",
   "metadata": {},
   "source": [
    "[youtube](https://www.youtube.com/watch?v=CXgbekl66jc)"
   ]
  },
  {
   "cell_type": "markdown",
   "metadata": {},
   "source": [
    "## 請找出一個你認為機器學習可以發光發熱的領域並闡述原因? "
   ]
  },
  {
   "cell_type": "code",
   "execution_count": null,
   "metadata": {},
   "outputs": [],
   "source": [
    "   「學習」真正的意思是什麼？簡單地說，學習是根據外界的刺激來進行改變，並且記得多數經驗的能力。所以機器學習是一種工程法，對每一項會增加或改善適應能力的技術而言，它都是最重要的事情。例如，機械表是一種非凡的產品，但它的結構符合固定的規律，如果某些外部事件發生變化，它就失去效用。這種能力是動物特有的，特別是對人類而言；根據達爾文的理論，它也是所有物種生存與進化的關鍵成功因素。就機器而言，就算它們無法自動演化，看起來也遵循同樣的規律。\n",
    "\n",
    "因此，機器學習的主要目標是研究、建立與改善數學模型，我們可用與環境相關的資料（由一個通用的環境來提供）來訓練（一次或持續）這個模型，以推論未來並進行決策，而不需要完全瞭解所有的影響因素（外部因素）。換句話說，一個代理程式（一種軟體實體，可接收環境資訊，選擇最佳行動來達到特定目標，並觀察它的結果）會調整統計學習方法，試著找出正確的機率分布，並使用它們來計算最有可能成功（且最小誤差）的行動（值或決策）。\n",
    "\n",
    "我比較喜歡使用推斷（inference）而非預測（prediction），這只是為了避免「機器學習是一種現代魔法」的奇怪（但不罕見）觀念。此外，你也可以加入基本的說明：演算法唯有在可影響實際資料時，才能以較高的準確度推算一般規則並學習它們的結構。所以你可以放心使用預測這個詞，但應該採用物理或系統理論領域中的含義。即使在最複雜的情況下，例如使用摺積神經網路來做影像分類，每一個資訊片段（幾何、顏色、特徵、對比...等等）都已經被儲存在資料中，模型也必須有夠大的彈性來持久擷取與學習它。"
   ]
  }
 ],
 "metadata": {
  "kernelspec": {
   "display_name": "Python 3",
   "language": "python",
   "name": "python3"
  },
  "language_info": {
   "codemirror_mode": {
    "name": "ipython",
    "version": 3
   },
   "file_extension": ".py",
   "mimetype": "text/x-python",
   "name": "python",
   "nbconvert_exporter": "python",
   "pygments_lexer": "ipython3",
   "version": "3.6.8"
  }
 },
 "nbformat": 4,
 "nbformat_minor": 2
}
